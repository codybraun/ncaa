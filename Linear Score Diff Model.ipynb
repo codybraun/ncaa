{
 "cells": [
  {
   "cell_type": "code",
   "execution_count": 21,
   "metadata": {},
   "outputs": [],
   "source": [
    "import datetime\n",
    "import numpy as np\n",
    "import pandas as pd \n",
    "import random\n",
    "import scipy\n",
    "from sklearn import linear_model\n",
    "from sklearn.linear_model import LogisticRegression\n",
    "from sklearn.linear_model import LinearRegression\n",
    "from sklearn.linear_model import Lasso\n",
    "from sklearn.ensemble import RandomForestRegressor\n",
    "from sklearn.model_selection import train_test_split\n",
    "from sklearn.metrics import f1_score, log_loss\n",
    "from statsmodels.tsa.arima_model import ARMA"
   ]
  },
  {
   "cell_type": "code",
   "execution_count": 4,
   "metadata": {},
   "outputs": [],
   "source": [
    "full_df = pd.read_pickle(\"../ncaa_data/full_df.p\")"
   ]
  },
  {
   "cell_type": "markdown",
   "metadata": {},
   "source": [
    "# Filter Down to Rows Where Each Team Has Actually Played a Previous Game So We Have Data"
   ]
  },
  {
   "cell_type": "code",
   "execution_count": 5,
   "metadata": {},
   "outputs": [],
   "source": [
    "populated_df = full_df[(full_df[\"FGM\"] > 0) & (full_df[\"FGM2\"] > 0)]"
   ]
  },
  {
   "cell_type": "code",
   "execution_count": 6,
   "metadata": {},
   "outputs": [],
   "source": [
    "y = populated_df[\"Team1Score\"] - populated_df[\"Team2Score\"]"
   ]
  },
  {
   "cell_type": "code",
   "execution_count": 7,
   "metadata": {},
   "outputs": [],
   "source": [
    "exclude = [\"Team1Score\",\"Team2Score\", \"date\",\"DayZero\",\"Score\",\"DayNum\",\"Season\",\"WScore\",\"LScore\",\"Team1\",\"Team2\",\"DayZero2\",\"Score2\",\"DayNum2\",\"Season2\",\"date2\"]\n",
    "feature_columns = populated_df.columns\n",
    "feature_columns = [item for item in feature_columns if item not in exclude]"
   ]
  },
  {
   "cell_type": "markdown",
   "metadata": {},
   "source": [
    "# Split It Up and Train a Model"
   ]
  },
  {
   "cell_type": "markdown",
   "metadata": {},
   "source": [
    "### For a random split\n"
   ]
  },
  {
   "cell_type": "code",
   "execution_count": 9,
   "metadata": {},
   "outputs": [],
   "source": [
    "x_train, x_test, y_train, y_test = train_test_split(populated_df[feature_columns], y, test_size=0.1)"
   ]
  },
  {
   "cell_type": "markdown",
   "metadata": {},
   "source": [
    "### For a split with only the last tournament as test data\n"
   ]
  },
  {
   "cell_type": "code",
   "execution_count": 10,
   "metadata": {},
   "outputs": [],
   "source": [
    "train_df = populated_df[(populated_df[\"DayNum\"] < 134) | (populated_df[\"Season\"] != 2017)]\n",
    "test_df = populated_df[(populated_df[\"DayNum\"] >= 134) & (populated_df[\"Season\"] == 2017)]\n",
    "\n",
    "x_train = train_df[feature_columns]\n",
    "x_test = test_df[feature_columns]\n",
    "y_train = train_df[\"Team1Score\"] - train_df[\"Team2Score\"]\n",
    "y_test = test_df[\"Team1Score\"] - test_df[\"Team2Score\"]\n"
   ]
  },
  {
   "cell_type": "code",
   "execution_count": 12,
   "metadata": {},
   "outputs": [],
   "source": [
    "tourney_matchups = pd.read_pickle(\"../ncaa_data/tourney_matchups.p\")"
   ]
  },
  {
   "cell_type": "code",
   "execution_count": null,
   "metadata": {},
   "outputs": [],
   "source": [
    "models = [        \n",
    "    (linear_model.Ridge(), {}),\n",
    "    (RandomForestRegressor(), {}),\n",
    "    (linear_model.Lasso(), {}),\n",
    "    (linear_model.SGDRegressor(), {}),\n",
    "    (linear_model.BayesianRidge(), {})\n",
    "         ]\n",
    "\n",
    "for model_tuple in models:\n",
    "    model = model_tuple[0]\n",
    "    print(model)\n",
    "    model.fit(x_train.fillna(0), y_train)\n",
    "    predicted = model.predict(x_test)\n",
    "    predicted[predicted > 0] = .9\n",
    "    predicted[predicted < 0] = .1\n",
    "    \n",
    "#     print(log_loss(y_test,predicted))"
   ]
  },
  {
   "cell_type": "code",
   "execution_count": null,
   "metadata": {},
   "outputs": [],
   "source": [
    "csv_file = open(\"submission.csv\", \"w+\")\n",
    "team_ids = list(tourney_matchups[\"Team1\"])\n",
    "team_ids2 = list(tourney_matchups[\"Team2\"])\n",
    "seasons = list(tourney_matchups[\"Season\"])\n",
    "csv_file.write(\"ID,Pred\\n\")\n",
    "for i in range(len(tourney_matchups[\"Season\"])):\n",
    "    csv_string = str(seasons[i]) + \"_\" + str(team_ids[i]) + \"_\" + str(int(team_ids2[i]))  + \",\" + str(predicted[i]) + \"\\n\"\n",
    "    csv_file.write(csv_string)"
   ]
  },
  {
   "cell_type": "markdown",
   "metadata": {},
   "source": [
    "# Final Output"
   ]
  },
  {
   "cell_type": "code",
   "execution_count": 162,
   "metadata": {},
   "outputs": [],
   "source": [
    "#For a split with only the last tournament as test data\n",
    "train_df = populated_df\n",
    "\n",
    "x_train = train_df[feature_columns]\n",
    "y_train = train_df[\"Team1Score\"] - train_df[\"Team2Score\"]\n"
   ]
  },
  {
   "cell_type": "code",
   "execution_count": 163,
   "metadata": {},
   "outputs": [
    {
     "name": "stderr",
     "output_type": "stream",
     "text": [
      "/anaconda3/envs/general-enrichment/lib/python3.6/site-packages/sklearn/ensemble/forest.py:246: FutureWarning: The default value of n_estimators will change from 10 in version 0.20 to 100 in 0.22.\n",
      "  \"10 in version 0.20 to 100 in 0.22.\", FutureWarning)\n"
     ]
    },
    {
     "data": {
      "text/plain": [
       "RandomForestRegressor(bootstrap=True, criterion='mse', max_depth=None,\n",
       "           max_features='auto', max_leaf_nodes=None,\n",
       "           min_impurity_decrease=0.0, min_impurity_split=None,\n",
       "           min_samples_leaf=1, min_samples_split=2,\n",
       "           min_weight_fraction_leaf=0.0, n_estimators=10, n_jobs=None,\n",
       "           oob_score=False, random_state=36, verbose=0, warm_start=False)"
      ]
     },
     "execution_count": 163,
     "metadata": {},
     "output_type": "execute_result"
    }
   ],
   "source": [
    "model = RandomForestRegressor(random_state=rand)\n",
    "model.fit(x_train[feature_columns].fillna(0), y_train)"
   ]
  },
  {
   "cell_type": "code",
   "execution_count": 164,
   "metadata": {},
   "outputs": [],
   "source": [
    "tourney_matchups = pd.read_pickle(\"../ncaa_data/final_matchups.p\")\n",
    "predictions = model.predict(tourney_matchups[feature_columns].fillna(0))"
   ]
  },
  {
   "cell_type": "code",
   "execution_count": 165,
   "metadata": {},
   "outputs": [],
   "source": [
    "probs = [(1- (1 - stats.norm.cdf(0, loc=prediction, scale=sd))) for prediction in predictions]"
   ]
  },
  {
   "cell_type": "code",
   "execution_count": 167,
   "metadata": {},
   "outputs": [],
   "source": [
    "csv_file = open(\"linear-submission3-18.csv\", \"w+\")\n",
    "team_ids = list(tourney_matchups[\"Team1\"])\n",
    "team_ids2 = list(tourney_matchups[\"Team2\"])\n",
    "seasons = list(tourney_matchups[\"Season\"])\n",
    "csv_file.write(\"ID,Pred\\n\")\n",
    "for i in range(len(tourney_matchups[\"Season\"])):\n",
    "    csv_string = str(seasons[i]) + \"_\" + str(team_ids[i]) + \"_\" + str(int(team_ids2[i]))  + \",\" + str(probs[i]) + \"\\n\"\n",
    "    csv_file.write(csv_string)"
   ]
  },
  {
   "cell_type": "code",
   "execution_count": 168,
   "metadata": {},
   "outputs": [],
   "source": [
    "csv_file.close()"
   ]
  },
  {
   "cell_type": "code",
   "execution_count": 172,
   "metadata": {},
   "outputs": [],
   "source": [
    "predictions = pd.concat([pd.Series([prob for prob in probs]), pd.Series(team_ids), pd.Series(team_ids2)], axis=1, ignore_index=True)\n",
    "predictions.columns = ['Predicted', 'team1' , 'team2']\n",
    "team_data = pd.read_csv(\"../ncaa_data/womens-machine-learning-competition-2019/WTeams.csv\")\n",
    "predictions = predictions.join(team_data.set_index('TeamID'), on='team2', how='left').join(team_data.set_index('TeamID'), lsuffix=\"team1\", on='team1', how='left')"
   ]
  },
  {
   "cell_type": "code",
   "execution_count": 173,
   "metadata": {},
   "outputs": [],
   "source": [
    "predictions[['TeamNameteam1', 'TeamName', 'Predicted']].to_csv('linear-brackets.csv')"
   ]
  },
  {
   "cell_type": "code",
   "execution_count": null,
   "metadata": {},
   "outputs": [],
   "source": []
  }
 ],
 "metadata": {
  "kernelspec": {
   "display_name": "Python (general enrichment)",
   "language": "python",
   "name": "general-enrichment"
  },
  "language_info": {
   "codemirror_mode": {
    "name": "ipython",
    "version": 3
   },
   "file_extension": ".py",
   "mimetype": "text/x-python",
   "name": "python",
   "nbconvert_exporter": "python",
   "pygments_lexer": "ipython3",
   "version": "3.6.8"
  }
 },
 "nbformat": 4,
 "nbformat_minor": 2
}
