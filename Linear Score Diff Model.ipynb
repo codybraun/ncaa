{
 "cells": [
  {
   "cell_type": "code",
   "execution_count": 11,
   "metadata": {
    "collapsed": false
   },
   "outputs": [],
   "source": [
    "import sklearn \n",
    "from sklearn import linear_model\n",
    "\n",
    "from sklearn.linear_model import LogisticRegression\n",
    "from sklearn.linear_model import LinearRegression\n",
    "from sklearn.linear_model import Lasso\n",
    "from sklearn.ensemble import RandomForestRegressor\n",
    "import pandas as pd \n",
    "import numpy as np\n",
    "import random\n",
    "from statsmodels.tsa.arima_model import ARMA\n",
    "import datetime\n",
    "from sklearn.model_selection import train_test_split\n",
    "from sklearn.metrics import f1_score, log_loss\n"
   ]
  },
  {
   "cell_type": "code",
   "execution_count": 2,
   "metadata": {
    "collapsed": true
   },
   "outputs": [],
   "source": [
    "full_df = pd.read_pickle(\"../ncaa_data/full_df.p\")"
   ]
  },
  {
   "cell_type": "markdown",
   "metadata": {},
   "source": [
    "# Filter Down to Rows Where Each Team Has Actually Played a Previous Game So We Have Data"
   ]
  },
  {
   "cell_type": "code",
   "execution_count": 3,
   "metadata": {
    "collapsed": false
   },
   "outputs": [],
   "source": [
    "populated_df = full_df[(full_df[\"FGM\"] > 0) & (full_df[\"FGM2\"] > 0)]"
   ]
  },
  {
   "cell_type": "code",
   "execution_count": 4,
   "metadata": {
    "collapsed": false
   },
   "outputs": [],
   "source": [
    "y = populated_df[\"Team1Score\"] - populated_df[\"Team2Score\"]"
   ]
  },
  {
   "cell_type": "code",
   "execution_count": 5,
   "metadata": {
    "collapsed": false
   },
   "outputs": [],
   "source": [
    "exclude = [\"Team1Score\",\"Team2Score\", \"date\",\"DayZero\",\"Score\",\"DayNum\",\"Season\",\"WScore\",\"LScore\",\"Team1\",\"Team2\",\"DayZero2\",\"Score2\",\"DayNum2\",\"Season2\",\"date2\"]\n",
    "feature_columns = populated_df.columns\n",
    "feature_columns = [item for item in feature_columns if item not in exclude]"
   ]
  },
  {
   "cell_type": "markdown",
   "metadata": {},
   "source": [
    "# Split It Up and Train a Model"
   ]
  },
  {
   "cell_type": "code",
   "execution_count": 6,
   "metadata": {
    "collapsed": false
   },
   "outputs": [],
   "source": [
    "# For a random split\n",
    "# x_train, x_test, y_train, y_test = train_test_split(populated_df[feature_columns], y, test_size=0.1)"
   ]
  },
  {
   "cell_type": "code",
   "execution_count": 25,
   "metadata": {
    "collapsed": true
   },
   "outputs": [],
   "source": [
    "#For a split with only the last tournament as test data\n",
    "train_df = populated_df[(populated_df[\"DayNum\"] < 134) | (populated_df[\"Season\"] != 2017)]\n",
    "test_df = populated_df[(populated_df[\"DayNum\"] >= 134) & (populated_df[\"Season\"] == 2017)]\n",
    "\n",
    "x_train = train_df[feature_columns]\n",
    "x_test = test_df[feature_columns]\n",
    "y_train = train_df[\"Team1Score\"] - train_df[\"Team2Score\"]\n",
    "y_test = test_df[\"Team1Score\"] - test_df[\"Team2Score\"]\n"
   ]
  },
  {
   "cell_type": "code",
   "execution_count": 26,
   "metadata": {
    "collapsed": false,
    "scrolled": true
   },
   "outputs": [
    {
     "ename": "AttributeError",
     "evalue": "'tuple' object has no attribute 'coef_'",
     "output_type": "error",
     "traceback": [
      "\u001b[0;31m---------------------------------------------------------------------------\u001b[0m",
      "\u001b[0;31mAttributeError\u001b[0m                            Traceback (most recent call last)",
      "\u001b[0;32m<ipython-input-26-6a73c3980eb0>\u001b[0m in \u001b[0;36m<module>\u001b[0;34m()\u001b[0m\n\u001b[0;32m----> 1\u001b[0;31m \u001b[0;34m[\u001b[0m\u001b[0mprint\u001b[0m \u001b[0;34m(\u001b[0m\u001b[0mitem\u001b[0m\u001b[0;34m)\u001b[0m \u001b[0;32mfor\u001b[0m \u001b[0mitem\u001b[0m \u001b[0;32min\u001b[0m \u001b[0mlist\u001b[0m\u001b[0;34m(\u001b[0m\u001b[0mzip\u001b[0m\u001b[0;34m(\u001b[0m\u001b[0mfeature_columns\u001b[0m\u001b[0;34m,\u001b[0m\u001b[0mmodels\u001b[0m\u001b[0;34m[\u001b[0m\u001b[0;36m0\u001b[0m\u001b[0;34m]\u001b[0m\u001b[0;34m.\u001b[0m\u001b[0mcoef_\u001b[0m\u001b[0;34m)\u001b[0m\u001b[0;34m)\u001b[0m\u001b[0;34m]\u001b[0m\u001b[0;34m\u001b[0m\u001b[0m\n\u001b[0m",
      "\u001b[0;31mAttributeError\u001b[0m: 'tuple' object has no attribute 'coef_'"
     ]
    }
   ],
   "source": [
    "[print (item) for item in list(zip(feature_columns,models[0].coef_))]"
   ]
  },
  {
   "cell_type": "code",
   "execution_count": 27,
   "metadata": {
    "collapsed": true
   },
   "outputs": [],
   "source": [
    "tourney_matchups = pd.read_pickle(\"../ncaa_data/tourney_matchups.p\")"
   ]
  },
  {
   "cell_type": "code",
   "execution_count": 24,
   "metadata": {
    "collapsed": false
   },
   "outputs": [
    {
     "name": "stdout",
     "output_type": "stream",
     "text": [
      "RandomForestRegressor(bootstrap=True, criterion='mse', max_depth=None,\n",
      "           max_features='auto', max_leaf_nodes=None,\n",
      "           min_impurity_decrease=0.0, min_impurity_split=None,\n",
      "           min_samples_leaf=1, min_samples_split=2,\n",
      "           min_weight_fraction_leaf=0.0, n_estimators=10, n_jobs=1,\n",
      "           oob_score=False, random_state=None, verbose=0, warm_start=False)\n",
      "1.05841497796\n",
      "Ridge(alpha=1.0, copy_X=True, fit_intercept=True, max_iter=None,\n",
      "   normalize=False, random_state=None, solver='auto', tol=0.001)\n",
      "1.23830443835\n",
      "Lasso(alpha=1.0, copy_X=True, fit_intercept=True, max_iter=1000,\n",
      "   normalize=False, positive=False, precompute=False, random_state=None,\n",
      "   selection='cyclic', tol=0.0001, warm_start=False)\n",
      "1.20397280433\n",
      "SGDRegressor(alpha=0.0001, average=False, epsilon=0.1, eta0=0.01,\n",
      "       fit_intercept=True, l1_ratio=0.15, learning_rate='invscaling',\n",
      "       loss='squared_loss', max_iter=None, n_iter=None, penalty='l2',\n",
      "       power_t=0.25, random_state=None, shuffle=True, tol=None, verbose=0,\n",
      "       warm_start=False)\n"
     ]
    },
    {
     "name": "stderr",
     "output_type": "stream",
     "text": [
      "/home/cody/anaconda3/lib/python3.6/site-packages/sklearn/linear_model/stochastic_gradient.py:128: FutureWarning: max_iter and tol parameters have been added in <class 'sklearn.linear_model.stochastic_gradient.SGDRegressor'> in 0.19. If both are left unset, they default to max_iter=5 and tol=None. If tol is not None, max_iter defaults to max_iter=1000. From 0.21, default max_iter will be 1000, and default tol will be 1e-3.\n",
      "  \"and default tol will be 1e-3.\" % type(self), FutureWarning)\n"
     ]
    },
    {
     "name": "stdout",
     "output_type": "stream",
     "text": [
      "1.23830443835\n",
      "BayesianRidge(alpha_1=1e-06, alpha_2=1e-06, compute_score=False, copy_X=True,\n",
      "       fit_intercept=True, lambda_1=1e-06, lambda_2=1e-06, n_iter=300,\n",
      "       normalize=False, tol=0.001, verbose=False)\n",
      "1.23830443835\n"
     ]
    }
   ],
   "source": [
    "models = [\n",
    "            (RandomForestRegressor(), {}),\n",
    "            (linear_model.Ridge(), {}),\n",
    "    (linear_model.Lasso(), {}),\n",
    "    (linear_model.SGDRegressor(), {}),\n",
    "    (linear_model.BayesianRidge(), {})\n",
    "         ]\n",
    "\n",
    "for model_tuple in models:\n",
    "    model = model_tuple[0]\n",
    "    print(model)\n",
    "    model.fit(x_train.fillna(0), y_train)\n",
    "    predicted = model.predict(x_test)\n",
    "    predicted[predicted > 0] = .9\n",
    "    predicted[predicted < 0] = .1\n",
    "    \n",
    "    print(log_loss(y_test,predicted))"
   ]
  },
  {
   "cell_type": "code",
   "execution_count": 18,
   "metadata": {
    "collapsed": false
   },
   "outputs": [
    {
     "name": "stdout",
     "output_type": "stream",
     "text": [
      "77550     7.0\n",
      "77551     1.0\n",
      "77552    -4.0\n",
      "77553    -4.0\n",
      "77554    18.0\n",
      "77555    12.0\n",
      "77556   -15.0\n",
      "77557    -6.0\n",
      "77558    20.0\n",
      "77559    11.0\n",
      "77560    -9.0\n",
      "77561     2.0\n",
      "77562     2.0\n",
      "77563    10.0\n",
      "77564     8.0\n",
      "77565   -20.0\n",
      "77566    -5.0\n",
      "77567    -6.0\n",
      "77568   -10.0\n",
      "77569   -11.0\n",
      "77570     6.0\n",
      "77571    18.0\n",
      "77572    14.0\n",
      "77573    22.0\n",
      "77574    38.0\n",
      "77575     9.0\n",
      "77576   -15.0\n",
      "77577     1.0\n",
      "77578   -20.0\n",
      "77579    39.0\n",
      "         ... \n",
      "77584    -1.0\n",
      "77585    -6.0\n",
      "77586     9.0\n",
      "77587     9.0\n",
      "77588    26.0\n",
      "77589     6.0\n",
      "77590    -4.0\n",
      "77591   -12.0\n",
      "77592    -3.0\n",
      "77593   -25.0\n",
      "77594     4.0\n",
      "77595    20.0\n",
      "77596     3.0\n",
      "77597    -4.0\n",
      "77598    -7.0\n",
      "77599     3.0\n",
      "77600    -7.0\n",
      "77601   -12.0\n",
      "77602     3.0\n",
      "77603    32.0\n",
      "77604    -1.0\n",
      "77605    -2.0\n",
      "77606     1.0\n",
      "77607    11.0\n",
      "77608   -12.0\n",
      "77609   -20.0\n",
      "77610    24.0\n",
      "77611   -14.0\n",
      "77612    -2.0\n",
      "77613    -7.0\n",
      "Length: 64, dtype: float64 [ -3.7   6.7  -2.7  -2.6  13.1  10.5  -8.9 -18.3  11.7   6.2   2.6   4.3\n",
      "   3.5   5.6   4.8 -28.5  -5.9  -7.2 -14.5  -2.4   1.9  19.4   4.9  10.2\n",
      "  14.   23.2 -18.1   3.5  -0.8  23.2 -14.6   0.1  -2.8 -12.6   1.4   4.1\n",
      "   6.2   0.5   6.3   7.8  -1.1  -9.5  13.8   4.5   3.9  15.4   2.4   4.3\n",
      " -12.5   6.    4.2   0.    5.3   6.6  -4.7   9.5   3.3  -3.6  -5.7   7.7\n",
      "  10.8   7.7  -8.6   8.9]\n"
     ]
    }
   ],
   "source": [
    "print(y_test, predicted)"
   ]
  },
  {
   "cell_type": "code",
   "execution_count": 471,
   "metadata": {
    "collapsed": false
   },
   "outputs": [
    {
     "data": {
      "text/plain": [
       "array([ 0.1,  0.1,  0.1,  0.1,  0.9,  0.9,  0.1,  0.1,  0.9,  0.9,  0.9,\n",
       "        0.1,  0.9,  0.9,  0.9,  0.1,  0.1,  0.1,  0.1,  0.9,  0.9,  0.9,\n",
       "        0.9,  0.9,  0.9,  0.9,  0.1,  0.9,  0.9,  0.9,  0.1,  0.9,  0.1,\n",
       "        0.1,  0.9,  0.9,  0.9,  0.9,  0.9,  0.9,  0.1,  0.1,  0.9,  0.9,\n",
       "        0.9,  0.9,  0.9,  0.9,  0.1,  0.9,  0.9,  0.1,  0.9,  0.9,  0.1,\n",
       "        0.1,  0.1,  0.9,  0.1,  0.9,  0.9,  0.9,  0.9,  0.9])"
      ]
     },
     "execution_count": 471,
     "metadata": {},
     "output_type": "execute_result"
    }
   ],
   "source": [
    "predicted"
   ]
  },
  {
   "cell_type": "code",
   "execution_count": 448,
   "metadata": {
    "collapsed": false,
    "scrolled": true
   },
   "outputs": [
    {
     "name": "stdout",
     "output_type": "stream",
     "text": [
      "96\n",
      "0\n",
      "25\n",
      "1\n",
      "48\n",
      "2\n",
      "36\n",
      "3\n",
      "28\n",
      "4\n",
      "65\n",
      "5\n",
      "3\n",
      "6\n",
      "47\n",
      "7\n",
      "41\n",
      "8\n",
      "62\n",
      "9\n"
     ]
    }
   ],
   "source": [
    "models = []\n",
    "for i in range(0,10):\n",
    "    print(rand)\n",
    "    rand = random.randint(0,100)\n",
    "    linear_model = RandomForestRegressor(random_state=rand)\n",
    "    linear_model.fit(x_train[feature_columns].fillna(0), y_train)\n",
    "    \n",
    "    models.append(linear_model)\n",
    "    print(i)"
   ]
  },
  {
   "cell_type": "code",
   "execution_count": 462,
   "metadata": {
    "collapsed": false
   },
   "outputs": [],
   "source": [
    "diffs = []\n",
    "for model in models:\n",
    "    point_diffs = model.predict(x_test.fillna(0))\n",
    "    diffs.append(point_diffs)\n",
    "binary_diffs = np.array(diffs.copy())\n",
    "binary_diffs[binary_diffs > 0] = 1\n",
    "binary_diffs[binary_diffs < 0] = 0 \n",
    "binary_diffs = np.sum(binary_diffs, axis=0)\n",
    "predicted = binary_diffs * .1\n",
    "predicted[predicted == 0]=0.1\n",
    "predicted[predicted == 1]=0.9"
   ]
  },
  {
   "cell_type": "code",
   "execution_count": 463,
   "metadata": {
    "collapsed": false,
    "scrolled": true
   },
   "outputs": [
    {
     "data": {
      "text/plain": [
       "[(1.0, 0.10000000000000001),\n",
       " (1.0, 0.20000000000000001),\n",
       " (0.0, 0.5),\n",
       " (0.0, 0.60000000000000009),\n",
       " (1.0, 0.90000000000000002),\n",
       " (1.0, 0.90000000000000002),\n",
       " (0.0, 0.10000000000000001),\n",
       " (0.0, 0.10000000000000001),\n",
       " (1.0, 0.90000000000000002),\n",
       " (1.0, 0.90000000000000002),\n",
       " (0.0, 0.60000000000000009),\n",
       " (1.0, 0.90000000000000002),\n",
       " (1.0, 0.90000000000000002),\n",
       " (1.0, 0.80000000000000004),\n",
       " (1.0, 0.90000000000000002),\n",
       " (0.0, 0.10000000000000001),\n",
       " (0.0, 0.10000000000000001),\n",
       " (0.0, 0.10000000000000001),\n",
       " (0.0, 0.10000000000000001),\n",
       " (0.0, 0.80000000000000004),\n",
       " (1.0, 0.80000000000000004),\n",
       " (1.0, 0.90000000000000002),\n",
       " (1.0, 0.90000000000000002),\n",
       " (1.0, 0.90000000000000002),\n",
       " (1.0, 0.90000000000000002),\n",
       " (1.0, 0.90000000000000002),\n",
       " (0.0, 0.10000000000000001),\n",
       " (1.0, 0.90000000000000002),\n",
       " (0.0, 0.90000000000000002),\n",
       " (1.0, 0.90000000000000002),\n",
       " (0.0, 0.10000000000000001),\n",
       " (0.0, 0.90000000000000002),\n",
       " (0.0, 0.20000000000000001),\n",
       " (0.0, 0.10000000000000001),\n",
       " (0.0, 0.90000000000000002),\n",
       " (0.0, 0.90000000000000002),\n",
       " (1.0, 0.90000000000000002),\n",
       " (1.0, 0.70000000000000007),\n",
       " (1.0, 0.60000000000000009),\n",
       " (1.0, 0.90000000000000002),\n",
       " (0.0, 0.30000000000000004),\n",
       " (0.0, 0.30000000000000004),\n",
       " (0.0, 0.90000000000000002),\n",
       " (0.0, 0.90000000000000002),\n",
       " (1.0, 0.90000000000000002),\n",
       " (1.0, 0.90000000000000002),\n",
       " (1.0, 0.90000000000000002),\n",
       " (0.0, 0.90000000000000002),\n",
       " (0.0, 0.10000000000000001),\n",
       " (1.0, 0.90000000000000002),\n",
       " (0.0, 0.90000000000000002),\n",
       " (0.0, 0.10000000000000001),\n",
       " (1.0, 0.90000000000000002),\n",
       " (1.0, 0.70000000000000007),\n",
       " (0.0, 0.10000000000000001),\n",
       " (0.0, 0.90000000000000002),\n",
       " (1.0, 0.80000000000000004),\n",
       " (1.0, 0.80000000000000004),\n",
       " (0.0, 0.10000000000000001),\n",
       " (0.0, 0.90000000000000002),\n",
       " (1.0, 0.90000000000000002),\n",
       " (0.0, 0.90000000000000002),\n",
       " (0.0, 0.70000000000000007),\n",
       " (0.0, 0.90000000000000002)]"
      ]
     },
     "execution_count": 463,
     "metadata": {},
     "output_type": "execute_result"
    }
   ],
   "source": [
    "list(zip(y_test, predicted))"
   ]
  },
  {
   "cell_type": "code",
   "execution_count": 464,
   "metadata": {
    "collapsed": false
   },
   "outputs": [
    {
     "data": {
      "text/plain": [
       "0.68161007322720124"
      ]
     },
     "execution_count": 464,
     "metadata": {},
     "output_type": "execute_result"
    }
   ],
   "source": [
    "log_loss(y_test,predicted)"
   ]
  },
  {
   "cell_type": "code",
   "execution_count": 465,
   "metadata": {
    "collapsed": false
   },
   "outputs": [
    {
     "data": {
      "text/plain": [
       "20      -44.0\n",
       "31        1.0\n",
       "211      47.0\n",
       "217      19.0\n",
       "258       5.0\n",
       "265      -1.0\n",
       "295       4.0\n",
       "310      -8.0\n",
       "322     -12.0\n",
       "328      -4.0\n",
       "344      10.0\n",
       "358       3.0\n",
       "378      -6.0\n",
       "408     -35.0\n",
       "416      -3.0\n",
       "422      -2.0\n",
       "446     -21.0\n",
       "477     -19.0\n",
       "503     -21.0\n",
       "543       6.0\n",
       "566     -15.0\n",
       "567      20.0\n",
       "571      -4.0\n",
       "610      10.0\n",
       "645      -7.0\n",
       "663      12.0\n",
       "665     -10.0\n",
       "668      11.0\n",
       "675      18.0\n",
       "718     -12.0\n",
       "         ... \n",
       "77584    -1.0\n",
       "77585    -6.0\n",
       "77586     9.0\n",
       "77587     9.0\n",
       "77588    26.0\n",
       "77589     6.0\n",
       "77590    -4.0\n",
       "77591   -12.0\n",
       "77592    -3.0\n",
       "77593   -25.0\n",
       "77594     4.0\n",
       "77595    20.0\n",
       "77596     3.0\n",
       "77597    -4.0\n",
       "77598    -7.0\n",
       "77599     3.0\n",
       "77600    -7.0\n",
       "77601   -12.0\n",
       "77602     3.0\n",
       "77603    32.0\n",
       "77604    -1.0\n",
       "77605    -2.0\n",
       "77606     1.0\n",
       "77607    11.0\n",
       "77608   -12.0\n",
       "77609   -20.0\n",
       "77610    24.0\n",
       "77611   -14.0\n",
       "77612    -2.0\n",
       "77613    -7.0\n",
       "Length: 5162, dtype: float64"
      ]
     },
     "execution_count": 465,
     "metadata": {},
     "output_type": "execute_result"
    }
   ],
   "source": [
    "populated_df[\"Team1Score\"] - populated_df[\"Team2Score\"]"
   ]
  },
  {
   "cell_type": "code",
   "execution_count": 461,
   "metadata": {
    "collapsed": false
   },
   "outputs": [],
   "source": [
    "diffs = []\n",
    "for model in models:\n",
    "    point_diffs = model.predict(tourney_matchups[feature_columns].fillna(0))\n",
    "    diffs.append(point_diffs)\n",
    "binary_diffs = np.array(diffs.copy())\n",
    "binary_diffs[binary_diffs > 0] = 1\n",
    "binary_diffs[binary_diffs < 0] = 0 \n",
    "binary_diffs = np.sum(binary_diffs, axis=0)\n",
    "predicted = binary_diffs * .1\n",
    "predicted[predicted == 0]=0.1\n",
    "predicted[predicted == 1]=0.9"
   ]
  },
  {
   "cell_type": "code",
   "execution_count": 441,
   "metadata": {
    "collapsed": false
   },
   "outputs": [
    {
     "data": {
      "text/plain": [
       "20      -44.0\n",
       "31        1.0\n",
       "211      47.0\n",
       "217      19.0\n",
       "258       5.0\n",
       "265      -1.0\n",
       "295       4.0\n",
       "310      -8.0\n",
       "322     -12.0\n",
       "328      -4.0\n",
       "344      10.0\n",
       "358       3.0\n",
       "378      -6.0\n",
       "408     -35.0\n",
       "416      -3.0\n",
       "422      -2.0\n",
       "446     -21.0\n",
       "477     -19.0\n",
       "503     -21.0\n",
       "543       6.0\n",
       "566     -15.0\n",
       "567      20.0\n",
       "571      -4.0\n",
       "610      10.0\n",
       "645      -7.0\n",
       "663      12.0\n",
       "665     -10.0\n",
       "668      11.0\n",
       "675      18.0\n",
       "718     -12.0\n",
       "         ... \n",
       "77424     4.0\n",
       "77427     6.0\n",
       "77435     9.0\n",
       "77436    -6.0\n",
       "77449   -25.0\n",
       "77452    13.0\n",
       "77457    -6.0\n",
       "77464     2.0\n",
       "77471    -5.0\n",
       "77475    11.0\n",
       "77480     3.0\n",
       "77483    10.0\n",
       "77489     4.0\n",
       "77490    -5.0\n",
       "77498    -8.0\n",
       "77499    -4.0\n",
       "77513   -10.0\n",
       "77514    -2.0\n",
       "77516    -1.0\n",
       "77518     3.0\n",
       "77519    14.0\n",
       "77521     6.0\n",
       "77522     6.0\n",
       "77525     7.0\n",
       "77541   -14.0\n",
       "77542   -28.0\n",
       "77544   -17.0\n",
       "77545    15.0\n",
       "77547     7.0\n",
       "77548   -15.0\n",
       "Length: 4226, dtype: float64"
      ]
     },
     "execution_count": 441,
     "metadata": {},
     "output_type": "execute_result"
    }
   ],
   "source": [
    "y_train"
   ]
  },
  {
   "cell_type": "code",
   "execution_count": 444,
   "metadata": {
    "collapsed": false
   },
   "outputs": [
    {
     "ename": "ValueError",
     "evalue": "Found input variables with inconsistent numbers of samples: [9112, 936]",
     "output_type": "error",
     "traceback": [
      "\u001b[0;31m---------------------------------------------------------------------------\u001b[0m",
      "\u001b[0;31mValueError\u001b[0m                                Traceback (most recent call last)",
      "\u001b[0;32m<ipython-input-444-7ec1e33e9eb0>\u001b[0m in \u001b[0;36m<module>\u001b[0;34m()\u001b[0m\n\u001b[0;32m----> 1\u001b[0;31m \u001b[0mlog_loss\u001b[0m\u001b[0;34m(\u001b[0m\u001b[0my_test\u001b[0m\u001b[0;34m,\u001b[0m\u001b[0mpredicted\u001b[0m\u001b[0;34m)\u001b[0m\u001b[0;34m\u001b[0m\u001b[0m\n\u001b[0m",
      "\u001b[0;32m/home/cody/anaconda3/lib/python3.6/site-packages/sklearn/metrics/classification.py\u001b[0m in \u001b[0;36mlog_loss\u001b[0;34m(y_true, y_pred, eps, normalize, sample_weight, labels)\u001b[0m\n\u001b[1;32m   1639\u001b[0m     \"\"\"\n\u001b[1;32m   1640\u001b[0m     \u001b[0my_pred\u001b[0m \u001b[0;34m=\u001b[0m \u001b[0mcheck_array\u001b[0m\u001b[0;34m(\u001b[0m\u001b[0my_pred\u001b[0m\u001b[0;34m,\u001b[0m \u001b[0mensure_2d\u001b[0m\u001b[0;34m=\u001b[0m\u001b[0;32mFalse\u001b[0m\u001b[0;34m)\u001b[0m\u001b[0;34m\u001b[0m\u001b[0m\n\u001b[0;32m-> 1641\u001b[0;31m     \u001b[0mcheck_consistent_length\u001b[0m\u001b[0;34m(\u001b[0m\u001b[0my_pred\u001b[0m\u001b[0;34m,\u001b[0m \u001b[0my_true\u001b[0m\u001b[0;34m)\u001b[0m\u001b[0;34m\u001b[0m\u001b[0m\n\u001b[0m\u001b[1;32m   1642\u001b[0m \u001b[0;34m\u001b[0m\u001b[0m\n\u001b[1;32m   1643\u001b[0m     \u001b[0mlb\u001b[0m \u001b[0;34m=\u001b[0m \u001b[0mLabelBinarizer\u001b[0m\u001b[0;34m(\u001b[0m\u001b[0;34m)\u001b[0m\u001b[0;34m\u001b[0m\u001b[0m\n",
      "\u001b[0;32m/home/cody/anaconda3/lib/python3.6/site-packages/sklearn/utils/validation.py\u001b[0m in \u001b[0;36mcheck_consistent_length\u001b[0;34m(*arrays)\u001b[0m\n\u001b[1;32m    202\u001b[0m     \u001b[0;32mif\u001b[0m \u001b[0mlen\u001b[0m\u001b[0;34m(\u001b[0m\u001b[0muniques\u001b[0m\u001b[0;34m)\u001b[0m \u001b[0;34m>\u001b[0m \u001b[0;36m1\u001b[0m\u001b[0;34m:\u001b[0m\u001b[0;34m\u001b[0m\u001b[0m\n\u001b[1;32m    203\u001b[0m         raise ValueError(\"Found input variables with inconsistent numbers of\"\n\u001b[0;32m--> 204\u001b[0;31m                          \" samples: %r\" % [int(l) for l in lengths])\n\u001b[0m\u001b[1;32m    205\u001b[0m \u001b[0;34m\u001b[0m\u001b[0m\n\u001b[1;32m    206\u001b[0m \u001b[0;34m\u001b[0m\u001b[0m\n",
      "\u001b[0;31mValueError\u001b[0m: Found input variables with inconsistent numbers of samples: [9112, 936]"
     ]
    }
   ],
   "source": [
    "log_loss(y_test,predicted)"
   ]
  },
  {
   "cell_type": "code",
   "execution_count": 443,
   "metadata": {
    "collapsed": true
   },
   "outputs": [],
   "source": [
    "# predicted[predicted < 0 ] = 0\n",
    "# predicted[predicted > 0 ] = 1\n",
    "# # predicted = (predicted-min(predicted ))/(max(predicted )-min(predicted ))"
   ]
  },
  {
   "cell_type": "code",
   "execution_count": 408,
   "metadata": {
    "collapsed": false
   },
   "outputs": [],
   "source": [
    "csv_file = open(\"submission.csv\", \"w+\")\n",
    "team_ids = list(tourney_matchups[\"Team1\"])\n",
    "team_ids2 = list(tourney_matchups[\"Team2\"])\n",
    "seasons = list(tourney_matchups[\"Season\"])\n",
    "csv_file.write(\"ID,Pred\\n\")\n",
    "for i in range(len(tourney_matchups[\"Season\"])):\n",
    "    csv_string = str(seasons[i]) + \"_\" + str(team_ids[i]) + \"_\" + str(int(team_ids2[i]))  + \",\" + str(predicted[i]) + \"\\n\"\n",
    "    csv_file.write(csv_string)"
   ]
  },
  {
   "cell_type": "code",
   "execution_count": 411,
   "metadata": {
    "collapsed": false
   },
   "outputs": [
    {
     "data": {
      "text/plain": [
       "array([ 0.3,  0.1,  0.1, ...,  0.7,  0.3,  0.8])"
      ]
     },
     "execution_count": 411,
     "metadata": {},
     "output_type": "execute_result"
    }
   ],
   "source": [
    "predicted"
   ]
  },
  {
   "cell_type": "code",
   "execution_count": null,
   "metadata": {
    "collapsed": true
   },
   "outputs": [],
   "source": []
  },
  {
   "cell_type": "code",
   "execution_count": 57,
   "metadata": {
    "collapsed": false
   },
   "outputs": [
    {
     "data": {
      "text/plain": [
       "9112"
      ]
     },
     "execution_count": 57,
     "metadata": {},
     "output_type": "execute_result"
    }
   ],
   "source": [
    "len(tourney_matchups[\"Season\"])"
   ]
  },
  {
   "cell_type": "code",
   "execution_count": 78,
   "metadata": {
    "collapsed": false
   },
   "outputs": [
    {
     "data": {
      "text/plain": [
       "14.691949517283017"
      ]
     },
     "execution_count": 78,
     "metadata": {},
     "output_type": "execute_result"
    }
   ],
   "source": [
    "predicted.max()"
   ]
  },
  {
   "cell_type": "code",
   "execution_count": 168,
   "metadata": {
    "collapsed": false
   },
   "outputs": [
    {
     "data": {
      "text/plain": [
       "527"
      ]
     },
     "execution_count": 168,
     "metadata": {},
     "output_type": "execute_result"
    }
   ],
   "source": [
    "len(full_df.columns)"
   ]
  }
 ],
 "metadata": {
  "kernelspec": {
   "display_name": "Python [conda root]",
   "language": "python",
   "name": "conda-root-py"
  },
  "language_info": {
   "codemirror_mode": {
    "name": "ipython",
    "version": 3
   },
   "file_extension": ".py",
   "mimetype": "text/x-python",
   "name": "python",
   "nbconvert_exporter": "python",
   "pygments_lexer": "ipython3",
   "version": "3.6.2"
  }
 },
 "nbformat": 4,
 "nbformat_minor": 2
}
