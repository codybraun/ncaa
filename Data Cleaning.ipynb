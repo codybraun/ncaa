{
 "cells": [
  {
   "cell_type": "code",
   "execution_count": 6,
   "metadata": {
    "collapsed": false
   },
   "outputs": [],
   "source": [
    "import sklearn \n",
    "from sklearn.linear_model import LogisticRegression\n",
    "import pandas as pd \n",
    "import numpy as np\n",
    "from statsmodels.tsa.arima_model import ARMA\n",
    "import datetime\n"
   ]
  },
  {
   "cell_type": "markdown",
   "metadata": {},
   "source": [
    "# Load CSVs"
   ]
  },
  {
   "cell_type": "code",
   "execution_count": 7,
   "metadata": {
    "collapsed": true
   },
   "outputs": [],
   "source": [
    "regular_season_results = pd.read_csv(\"../ncaa_data/RegularSeasonDetailedResults.csv\")\n",
    "tourney_results = pd.read_csv(\"../ncaa_data/NCAATourneyDetailedResults.csv\")\n",
    "results = pd.concat([regular_season_results, tourney_results])"
   ]
  },
  {
   "cell_type": "code",
   "execution_count": 8,
   "metadata": {
    "collapsed": false
   },
   "outputs": [],
   "source": [
    "seasons = pd.read_csv(\"../ncaa_data/Seasons.csv\")\n",
    "seasons = seasons[[\"Season\",\"DayZero\"]]\n",
    "results = results.set_index(\"Season\").join(seasons.set_index(\"Season\"), how=\"inner\", rsuffix=\"season\").reset_index()"
   ]
  },
  {
   "cell_type": "markdown",
   "metadata": {},
   "source": [
    "# Build Team/Season Features"
   ]
  },
  {
   "cell_type": "code",
   "execution_count": 14,
   "metadata": {
    "collapsed": false
   },
   "outputs": [],
   "source": [
    "winning_results = results[['Season', 'DayNum','DayZero', 'WTeamID', 'WScore', 'WFGM', 'WFGA', 'WFGM3', 'WFGA3', 'WFTM', 'WFTA', 'WOR', 'WDR',\n",
    "'WAst', 'WTO', 'WStl', 'WBlk', 'WPF']]\n",
    "losing_results = results[['Season', 'DayNum','DayZero', 'LTeamID', 'LScore', 'LFGM', 'LFGA', 'LFGM3', 'LFGA3',\n",
    "       'LFTM', 'LFTA', 'LOR', 'LDR', 'LAst', 'LTO', 'LStl', 'LBlk', 'LPF']]\n",
    "winning_results.columns = ['Season', 'DayNum','DayZero', 'TeamID', 'Score','FGM', 'FGA', 'FGM3', 'FGA3', 'FTM', 'FTA', 'OR', 'DR',\n",
    "'Ast', 'TO', 'Stl', 'Blk', 'PF']\n",
    "losing_results.columns = ['Season', 'DayNum','DayZero', 'TeamID', 'Score', 'FGM', 'FGA', 'FGM3', 'FGA3', 'FTM', 'FTA', 'OR', 'DR',\n",
    "'Ast', 'TO', 'Stl', 'Blk', 'PF']\n",
    "team_df = pd.concat([winning_results, losing_results])\n"
   ]
  },
  {
   "cell_type": "markdown",
   "metadata": {},
   "source": [
    "# Bring in Massey Ordinals "
   ]
  },
  {
   "cell_type": "code",
   "execution_count": 4,
   "metadata": {
    "collapsed": false
   },
   "outputs": [],
   "source": [
    "massey = pd.read_csv(\"../ncaa_data/MasseyOrdinals.csv\")\n",
    "massey = massey.rename(columns={\"RankingDayNum\":\"DayNum\"})\n",
    "massey = massey.pivot_table(index=[\"Season\",\"TeamID\",\"DayNum\"], columns=\"SystemName\", values=\"OrdinalRank\")\n",
    "massey = massey.fillna(method=\"ffill\")\n",
    "massey = massey.drop(\"DC2\", axis=1)"
   ]
  },
  {
   "cell_type": "code",
   "execution_count": 15,
   "metadata": {
    "collapsed": false
   },
   "outputs": [],
   "source": [
    "team_df = team_df.set_index([\"Season\",\"TeamID\",\"DayNum\"]).join(massey, how=\"left\")\n"
   ]
  },
  {
   "cell_type": "code",
   "execution_count": 17,
   "metadata": {
    "collapsed": false
   },
   "outputs": [],
   "source": [
    "team_df = team_df.reset_index().sort_values([\"Season\",\"DayNum\"]).set_index(\"DayNum\").groupby([\"Season\",\"TeamID\"]).apply(lambda x: x.reindex(range(0,150), method='ffill'))"
   ]
  },
  {
   "cell_type": "markdown",
   "metadata": {},
   "source": [
    "# Clean Up and Make Some Columns MA"
   ]
  },
  {
   "cell_type": "code",
   "execution_count": 21,
   "metadata": {
    "collapsed": false
   },
   "outputs": [],
   "source": [
    "team_df = team_df.drop([\"TeamID\",\"Season\"], axis=1)\n",
    "deltas = team_df.reset_index()[\"DayNum\"].apply(lambda x: datetime.timedelta(days=x))\n",
    "team_df[\"date\"] = pd.to_datetime(team_df[\"DayZero\"]) + deltas.values"
   ]
  },
  {
   "cell_type": "code",
   "execution_count": 22,
   "metadata": {
    "collapsed": false
   },
   "outputs": [],
   "source": [
    "exclude = [\"date\",\"DayZero\",\"Score\",\"DayNum\",\"Season\"]\n",
    "ma_columns = team_df.columns.tolist()\n",
    "ma_columns = [item for item in ma_columns if item not in exclude]"
   ]
  },
  {
   "cell_type": "code",
   "execution_count": 23,
   "metadata": {
    "collapsed": false
   },
   "outputs": [],
   "source": [
    "ma_data = team_df.groupby([\"Season\",\"TeamID\"])[ma_columns].apply(lambda x: x.rolling(window=10, min_periods=1).mean())"
   ]
  },
  {
   "cell_type": "code",
   "execution_count": 24,
   "metadata": {
    "collapsed": false
   },
   "outputs": [],
   "source": [
    "team_df[ma_columns] = ma_data"
   ]
  },
  {
   "cell_type": "markdown",
   "metadata": {},
   "source": [
    "# Pickle Team DF"
   ]
  },
  {
   "cell_type": "code",
   "execution_count": 25,
   "metadata": {
    "collapsed": false
   },
   "outputs": [],
   "source": [
    "team_df.to_pickle(\"../ncaa_data/team_df.p\")"
   ]
  },
  {
   "cell_type": "markdown",
   "metadata": {},
   "source": [
    "# Build Game DF"
   ]
  },
  {
   "cell_type": "code",
   "execution_count": 26,
   "metadata": {
    "collapsed": false
   },
   "outputs": [],
   "source": [
    "games = results[[\"WTeamID\",\"LTeamID\",\"Season\",\"DayNum\",\"WLoc\",\"DayZero\",\"WScore\",\"LScore\"]]"
   ]
  },
  {
   "cell_type": "code",
   "execution_count": 27,
   "metadata": {
    "collapsed": false
   },
   "outputs": [
    {
     "name": "stderr",
     "output_type": "stream",
     "text": [
      "/home/cody/anaconda3/lib/python3.6/site-packages/ipykernel/__main__.py:1: SettingWithCopyWarning: \n",
      "A value is trying to be set on a copy of a slice from a DataFrame.\n",
      "Try using .loc[row_indexer,col_indexer] = value instead\n",
      "\n",
      "See the caveats in the documentation: http://pandas.pydata.org/pandas-docs/stable/indexing.html#indexing-view-versus-copy\n",
      "  if __name__ == '__main__':\n",
      "/home/cody/anaconda3/lib/python3.6/site-packages/ipykernel/__main__.py:2: SettingWithCopyWarning: \n",
      "A value is trying to be set on a copy of a slice from a DataFrame.\n",
      "Try using .loc[row_indexer,col_indexer] = value instead\n",
      "\n",
      "See the caveats in the documentation: http://pandas.pydata.org/pandas-docs/stable/indexing.html#indexing-view-versus-copy\n",
      "  from ipykernel import kernelapp as app\n"
     ]
    }
   ],
   "source": [
    "games[\"Team1\"] = games[[\"WTeamID\",\"LTeamID\"]].min(axis=1)\n",
    "games[\"Team2\"] = games[[\"WTeamID\",\"LTeamID\"]].max(axis=1)\n"
   ]
  },
  {
   "cell_type": "code",
   "execution_count": 28,
   "metadata": {
    "collapsed": false
   },
   "outputs": [
    {
     "name": "stderr",
     "output_type": "stream",
     "text": [
      "/home/cody/anaconda3/lib/python3.6/site-packages/ipykernel/__main__.py:1: SettingWithCopyWarning: \n",
      "A value is trying to be set on a copy of a slice from a DataFrame.\n",
      "Try using .loc[row_indexer,col_indexer] = value instead\n",
      "\n",
      "See the caveats in the documentation: http://pandas.pydata.org/pandas-docs/stable/indexing.html#indexing-view-versus-copy\n",
      "  if __name__ == '__main__':\n",
      "/home/cody/anaconda3/lib/python3.6/site-packages/ipykernel/__main__.py:2: SettingWithCopyWarning: \n",
      "A value is trying to be set on a copy of a slice from a DataFrame.\n",
      "Try using .loc[row_indexer,col_indexer] = value instead\n",
      "\n",
      "See the caveats in the documentation: http://pandas.pydata.org/pandas-docs/stable/indexing.html#indexing-view-versus-copy\n",
      "  from ipykernel import kernelapp as app\n",
      "/home/cody/anaconda3/lib/python3.6/site-packages/ipykernel/__main__.py:3: SettingWithCopyWarning: \n",
      "A value is trying to be set on a copy of a slice from a DataFrame.\n",
      "Try using .loc[row_indexer,col_indexer] = value instead\n",
      "\n",
      "See the caveats in the documentation: http://pandas.pydata.org/pandas-docs/stable/indexing.html#indexing-view-versus-copy\n",
      "  app.launch_new_instance()\n",
      "/home/cody/anaconda3/lib/python3.6/site-packages/ipykernel/__main__.py:4: SettingWithCopyWarning: \n",
      "A value is trying to be set on a copy of a slice from a DataFrame.\n",
      "Try using .loc[row_indexer,col_indexer] = value instead\n",
      "\n",
      "See the caveats in the documentation: http://pandas.pydata.org/pandas-docs/stable/indexing.html#indexing-view-versus-copy\n",
      "/home/cody/anaconda3/lib/python3.6/site-packages/pandas/core/indexing.py:537: SettingWithCopyWarning: \n",
      "A value is trying to be set on a copy of a slice from a DataFrame.\n",
      "Try using .loc[row_indexer,col_indexer] = value instead\n",
      "\n",
      "See the caveats in the documentation: http://pandas.pydata.org/pandas-docs/stable/indexing.html#indexing-view-versus-copy\n",
      "  self.obj[item] = s\n"
     ]
    }
   ],
   "source": [
    "games[\"Team1Score\"] = 0\n",
    "games[\"Team2Score\"] = 0\n",
    "games[\"Team1\"] = games[[\"WTeamID\",\"LTeamID\"]].min(axis=1)\n",
    "games[\"Team2\"] = games[[\"WTeamID\",\"LTeamID\"]].max(axis=1)\n",
    "games.loc[games[\"WTeamID\"] == games[\"Team1\"],\"Team1Score\"] = games[\"WScore\"]\n",
    "games.loc[games[\"WTeamID\"] != games[\"Team1\"],\"Team1Score\"] = games[games[\"WTeamID\"] != games[\"Team1\"]][\"LScore\"]\n",
    "games.loc[games[\"WTeamID\"] == games[\"Team2\"],\"Team2Score\"] = games[\"WScore\"]\n",
    "games.loc[games[\"WTeamID\"] != games[\"Team2\"],\"Team2Score\"] = games[\"LScore\"]\n",
    "# games[\"ScoreDiff\"] = \n",
    "# games[\"Team1Home\"] = (games[\"WLoc\"]==\"H\") & (games[\"WTeamID\"] == games[\"Team1\"])\n",
    "# games[\"Team2Home\"] = (games[\"WLoc\"]==\"H\") & (games[\"WTeamID\"] == games[\"Team2\"])"
   ]
  },
  {
   "cell_type": "code",
   "execution_count": 29,
   "metadata": {
    "collapsed": false
   },
   "outputs": [],
   "source": [
    "games = games.drop([\"WTeamID\",\"LTeamID\",\"WLoc\",\"DayZero\"], axis=1)\n"
   ]
  },
  {
   "cell_type": "markdown",
   "metadata": {},
   "source": [
    "# Increment the dayNum so that we only use results up through the day previous to the game"
   ]
  },
  {
   "cell_type": "code",
   "execution_count": 30,
   "metadata": {
    "collapsed": false
   },
   "outputs": [],
   "source": [
    "incremented = team_df.reset_index()\n",
    "incremented[\"DayNum\"] = incremented[\"DayNum\"] + 1\n",
    "incremented = incremented.set_index([\"Season\",\"TeamID\",\"DayNum\"])\n",
    "full_df = games.join(incremented, on=[\"Season\", \"Team1\",\"DayNum\"], how=\"right\").join(incremented, on=[\"Season\", \"Team2\",\"DayNum\"], rsuffix=\"2\", how=\"inner\")"
   ]
  },
  {
   "cell_type": "code",
   "execution_count": 31,
   "metadata": {
    "collapsed": false
   },
   "outputs": [
    {
     "data": {
      "text/plain": [
       "(77617, 8)"
      ]
     },
     "execution_count": 31,
     "metadata": {},
     "output_type": "execute_result"
    }
   ],
   "source": [
    "games.shape"
   ]
  },
  {
   "cell_type": "markdown",
   "metadata": {},
   "source": [
    "# Add Some Diff Columns"
   ]
  },
  {
   "cell_type": "code",
   "execution_count": 32,
   "metadata": {
    "collapsed": false
   },
   "outputs": [],
   "source": [
    "for column in ma_columns:\n",
    "    try:\n",
    "        full_df[column + \"diff\"] = full_df[column] - full_df[str(column +\"2\")]\n",
    "    except Exception as e:\n",
    "        print(e)"
   ]
  },
  {
   "cell_type": "code",
   "execution_count": 33,
   "metadata": {
    "collapsed": false
   },
   "outputs": [],
   "source": [
    "full_df.to_pickle(\"../ncaa_data/full_df.p\")"
   ]
  },
  {
   "cell_type": "markdown",
   "metadata": {},
   "source": [
    "# Match Ups to Predict"
   ]
  },
  {
   "cell_type": "code",
   "execution_count": 19,
   "metadata": {
    "collapsed": false
   },
   "outputs": [],
   "source": [
    "pairs_to_predict = pd.read_csv(\"../ncaa_data/SampleSubmissionStage1.csv\")[\"ID\"].str.split(\"_\")\n",
    "seasons = pairs_to_predict.apply(lambda x: int(x[0]))\n",
    "team1 = pairs_to_predict.apply(lambda x: int(x[1]))\n",
    "team2 = pairs_to_predict.apply(lambda x:int(x[2]))"
   ]
  },
  {
   "cell_type": "code",
   "execution_count": 57,
   "metadata": {
    "collapsed": false
   },
   "outputs": [],
   "source": [
    "tourney_matchups = pd.DataFrame()\n",
    "tourney_matchups[\"Team1\"] = team1\n",
    "tourney_matchups[\"Team2\"] = team2\n",
    "tourney_matchups[\"Season\"] = seasons\n",
    "tourney_matchups[\"DayNum\"] = 149"
   ]
  },
  {
   "cell_type": "code",
   "execution_count": 46,
   "metadata": {
    "collapsed": false
   },
   "outputs": [],
   "source": [
    "last_games = team_df.reset_index()[team_df.reset_index()[\"DayNum\"]==149]"
   ]
  },
  {
   "cell_type": "code",
   "execution_count": 51,
   "metadata": {
    "collapsed": false
   },
   "outputs": [],
   "source": [
    "last_games = last_games.set_index([\"Season\",\"TeamID\",\"DayNum\"])"
   ]
  },
  {
   "cell_type": "code",
   "execution_count": 59,
   "metadata": {
    "collapsed": false
   },
   "outputs": [],
   "source": [
    "tourney_matchups = tourney_matchups.join(last_games, on=[\"Season\", \"Team1\",\"DayNum\"], how=\"right\").join(last_games, on=[\"Season\", \"Team2\",\"DayNum\"], rsuffix=\"2\", how=\"inner\")"
   ]
  },
  {
   "cell_type": "code",
   "execution_count": 60,
   "metadata": {
    "collapsed": false
   },
   "outputs": [],
   "source": [
    "for column in ma_columns:\n",
    "    try:\n",
    "        tourney_matchups[column + \"diff\"] = tourney_matchups[column] - tourney_matchups[str(column +\"2\")]\n",
    "    except Exception as e:\n",
    "        print(e)"
   ]
  },
  {
   "cell_type": "code",
   "execution_count": 62,
   "metadata": {
    "collapsed": false
   },
   "outputs": [],
   "source": [
    "tourney_matchups.to_pickle(\"../ncaa_data/tourney_matchups.p\")"
   ]
  },
  {
   "cell_type": "code",
   "execution_count": null,
   "metadata": {
    "collapsed": true
   },
   "outputs": [],
   "source": []
  }
 ],
 "metadata": {
  "kernelspec": {
   "display_name": "Python [conda root]",
   "language": "python",
   "name": "conda-root-py"
  },
  "language_info": {
   "codemirror_mode": {
    "name": "ipython",
    "version": 3
   },
   "file_extension": ".py",
   "mimetype": "text/x-python",
   "name": "python",
   "nbconvert_exporter": "python",
   "pygments_lexer": "ipython3",
   "version": "3.6.2"
  }
 },
 "nbformat": 4,
 "nbformat_minor": 2
}
